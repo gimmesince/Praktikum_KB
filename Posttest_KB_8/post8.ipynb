{
  "nbformat": 4,
  "nbformat_minor": 0,
  "metadata": {
    "colab": {
      "provenance": [],
      "collapsed_sections": []
    },
    "kernelspec": {
      "name": "python3",
      "display_name": "Python 3"
    },
    "language_info": {
      "name": "python"
    }
  },
  "cells": [
    {
      "cell_type": "markdown",
      "source": [
        "# Import Library\n",
        "\n",
        "\n",
        "\n"
      ],
      "metadata": {
        "id": "z6uv5TTiFqk9"
      }
    },
    {
      "cell_type": "code",
      "execution_count": 34,
      "metadata": {
        "id": "aJo7lYZLDzrI"
      },
      "outputs": [],
      "source": [
        "import tensorflow as tf\n",
        "import matplotlib.pyplot as plt\n",
        "import numpy as np\n",
        "from tensorflow import keras\n",
        "from tensorflow.keras import layers,optimizers,datasets\n",
        "from tensorflow.keras import Sequential\n",
        "from tensorflow.keras.layers import Dense\n",
        "\n",
        "import warnings\n",
        "warnings.filterwarnings('ignore')"
      ]
    },
    {
      "cell_type": "markdown",
      "source": [
        "## Read Datasets \n",
        "\n",
        "menggunakan datasets keras"
      ],
      "metadata": {
        "id": "qXMRMQyIQhD8"
      }
    },
    {
      "cell_type": "code",
      "source": [
        "(x_train_raw, y_train_raw), (x_test_raw, y_test_raw) = datasets.mnist.load_data()"
      ],
      "metadata": {
        "colab": {
          "base_uri": "https://localhost:8080/"
        },
        "id": "XR93_IHMGrx1",
        "outputId": "434fd302-874c-46e3-c083-0908ec075085"
      },
      "execution_count": 41,
      "outputs": [
        {
          "output_type": "stream",
          "name": "stdout",
          "text": [
            "Downloading data from https://storage.googleapis.com/tensorflow/tf-keras-datasets/mnist.npz\n",
            "11490434/11490434 [==============================] - 0s 0us/step\n"
          ]
        }
      ]
    },
    {
      "cell_type": "markdown",
      "source": [
        "# Show Image\n",
        "\n",
        "menampikan beberapa contoh image yang akan di modelkan"
      ],
      "metadata": {
        "id": "ai57vDDsQmWd"
      }
    },
    {
      "cell_type": "code",
      "source": [
        "fig = plt.figure(figsize=(10, 10))\n",
        "\n",
        "fig.add_subplot(2, 2, 1)\n",
        "\n",
        "plt.imshow(x_train_raw[1])\n",
        "plt.axis('off')\n",
        "plt.title(\"Gambar 2\")\n",
        "fig.add_subplot(2, 2, 2)\n",
        "plt.imshow(x_train_raw[2])\n",
        "plt.axis('off')\n",
        "plt.title(\"Gambar 2\")\n",
        "fig.add_subplot(2, 2, 3)\n",
        "plt.imshow(x_train_raw[3])\n",
        "plt.axis('off')\n",
        "plt.title(\"Gambar 3\")\n",
        "fig.add_subplot(2, 2, 4)\n",
        "plt.imshow(x_train_raw[4])\n",
        "plt.axis('off')\n",
        "plt.title(\"Gambar 4\")\n",
        "plt.show"
      ],
      "metadata": {
        "colab": {
          "base_uri": "https://localhost:8080/",
          "height": 607
        },
        "id": "TnsYynWHIK7o",
        "outputId": "eccaf2d3-1419-4247-8a81-8e088b6cd43f"
      },
      "execution_count": 45,
      "outputs": [
        {
          "output_type": "execute_result",
          "data": {
            "text/plain": [
              "<function matplotlib.pyplot.show(*args, **kw)>"
            ]
          },
          "metadata": {},
          "execution_count": 45
        },
        {
          "output_type": "display_data",
          "data": {
            "text/plain": [
              "<Figure size 720x720 with 4 Axes>"
            ],
            "image/png": "[encoded data removed]"
          },
          "metadata": {
            "needs_background": "light"
          }
        }
      ]
    },
    {
      "cell_type": "markdown",
      "source": [
        "# Encoding "
      ],
      "metadata": {
        "id": "DyJ9CrZ1Qu2j"
      }
    },
    {
      "cell_type": "code",
      "source": [
        "num_class = len(np.unique(y_train_raw))\n",
        "y_train = tf.keras.utils.to_categorical(y_train_raw, num_class)\n",
        "y_test = tf.keras.utils.to_categorical(y_test_raw, num_class)"
      ],
      "metadata": {
        "id": "vHGRALdrMI-5"
      },
      "execution_count": 50,
      "outputs": []
    },
    {
      "cell_type": "markdown",
      "source": [
        "# Dimension Reshaping"
      ],
      "metadata": {
        "id": "Sh6BYiSfRWRB"
      }
    },
    {
      "cell_type": "code",
      "source": [
        "x_train = tf.reshape(x_train_raw, [60000, 784])\n",
        "x_test = tf.reshape(x_test_raw, [10000, 784])"
      ],
      "metadata": {
        "id": "XdL7C2aHO7-s"
      },
      "execution_count": 53,
      "outputs": []
    },
    {
      "cell_type": "code",
      "source": [
        "x_train = tf.cast(x_train, tf.float32) / 255\n",
        "x_test = tf.cast(x_test, tf.float32) / 255"
      ],
      "metadata": {
        "id": "C8EWKMeVPAbb"
      },
      "execution_count": 54,
      "outputs": []
    },
    {
      "cell_type": "markdown",
      "source": [
        "# Modelling"
      ],
      "metadata": {
        "id": "zPv7bNLARYwr"
      }
    },
    {
      "cell_type": "code",
      "source": [
        "model = tf.keras.Sequential([\n",
        "    tf.keras.layers.Dense(512, activation='relu', input_dim=784),\n",
        "    tf.keras.layers.Dense(256, activation='relu'),\n",
        "    tf.keras.layers.Dense(124, activation='relu'),\n",
        "    tf.keras.layers.Dense(128, activation='relu'),\n",
        "    tf.keras.layers.Dense(10, activation='softmax')\n",
        "])\n",
        "\n",
        "model.summary()"
      ],
      "metadata": {
        "colab": {
          "base_uri": "https://localhost:8080/"
        },
        "id": "waUNW1bAPO9x",
        "outputId": "64aefee9-7879-4c59-a92f-b11635468249"
      },
      "execution_count": 58,
      "outputs": [
        {
          "output_type": "stream",
          "name": "stdout",
          "text": [
            "Model: \"sequential_1\"\n",
            "_________________________________________________________________\n",
            " Layer (type)                Output Shape              Param #   \n",
            "=================================================================\n",
            " dense_5 (Dense)             (None, 512)               401920    \n",
            "                                                                 \n",
            " dense_6 (Dense)             (None, 256)               131328    \n",
            "                                                                 \n",
            " dense_7 (Dense)             (None, 124)               31868     \n",
            "                                                                 \n",
            " dense_8 (Dense)             (None, 128)               16000     \n",
            "                                                                 \n",
            " dense_9 (Dense)             (None, 10)                1290      \n",
            "                                                                 \n",
            "=================================================================\n",
            "Total params: 582,406\n",
            "Trainable params: 582,406\n",
            "Non-trainable params: 0\n",
            "_________________________________________________________________\n"
          ]
        }
      ]
    },
    {
      "cell_type": "code",
      "source": [
        "model.compile(optimizer='adam', loss='categorical_crossentropy', metrics=['accuracy'])"
      ],
      "metadata": {
        "id": "vlN8G2GMPSyw"
      },
      "execution_count": 59,
      "outputs": []
    },
    {
      "cell_type": "code",
      "source": [
        "history = model.fit(x_train, y_train, epochs=8, batch_size=128, validation_data=[x_test, y_test])"
      ],
      "metadata": {
        "colab": {
          "base_uri": "https://localhost:8080/"
        },
        "id": "xGzitGm1PWkF",
        "outputId": "7870313c-fe2d-48be-f100-6fe5c5a76845"
      },
      "execution_count": 60,
      "outputs": [
        {
          "output_type": "stream",
          "name": "stdout",
          "text": [
            "Epoch 1/8\n",
            "469/469 [==============================] - 9s 17ms/step - loss: 0.2405 - accuracy: 0.9287 - val_loss: 0.1275 - val_accuracy: 0.9602\n",
            "Epoch 2/8\n",
            "469/469 [==============================] - 7s 16ms/step - loss: 0.0880 - accuracy: 0.9730 - val_loss: 0.0972 - val_accuracy: 0.9700\n",
            "Epoch 3/8\n",
            "469/469 [==============================] - 7s 15ms/step - loss: 0.0613 - accuracy: 0.9810 - val_loss: 0.0749 - val_accuracy: 0.9764\n",
            "Epoch 4/8\n",
            "469/469 [==============================] - 8s 16ms/step - loss: 0.0456 - accuracy: 0.9853 - val_loss: 0.0959 - val_accuracy: 0.9715\n",
            "Epoch 5/8\n",
            "469/469 [==============================] - 8s 17ms/step - loss: 0.0334 - accuracy: 0.9895 - val_loss: 0.0764 - val_accuracy: 0.9784\n",
            "Epoch 6/8\n",
            "469/469 [==============================] - 8s 17ms/step - loss: 0.0301 - accuracy: 0.9901 - val_loss: 0.0701 - val_accuracy: 0.9798\n",
            "Epoch 7/8\n",
            "469/469 [==============================] - 7s 16ms/step - loss: 0.0260 - accuracy: 0.9914 - val_loss: 0.0666 - val_accuracy: 0.9811\n",
            "Epoch 8/8\n",
            "469/469 [==============================] - 8s 18ms/step - loss: 0.0213 - accuracy: 0.9932 - val_loss: 0.0791 - val_accuracy: 0.9779\n"
          ]
        }
      ]
    },
    {
      "cell_type": "code",
      "source": [
        "nilai_x = range(len(history.history['accuracy']))\n",
        "plt.figure(figsize=[10,8])\n",
        "plt.plot(nilai_x, history.history['accuracy'], label='Training')\n",
        "plt.plot(nilai_x, history.history['val_accuracy'], label='Validation')\n",
        "plt.legend()\n",
        "plt.show()"
      ],
      "metadata": {
        "colab": {
          "base_uri": "https://localhost:8080/",
          "height": 483
        },
        "id": "KJo1ENFVPbsd",
        "outputId": "d564ce6f-ff15-4c21-f96f-51b200c74b15"
      },
      "execution_count": 65,
      "outputs": [
        {
          "output_type": "display_data",
          "data": {
            "text/plain": [
              "<Figure size 720x576 with 1 Axes>"
            ],
            "image/png": "[encoded data removed]"
          },
          "metadata": {
            "needs_background": "light"
          }
        }
      ]
    },
    {
      "cell_type": "code",
      "source": [],
      "metadata": {
        "id": "M8DrbkRIRmXP"
      },
      "execution_count": null,
      "outputs": []
    }
  ]
}