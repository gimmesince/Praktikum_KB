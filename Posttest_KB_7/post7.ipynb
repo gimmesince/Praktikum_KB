{
  "nbformat": 4,
  "nbformat_minor": 0,
  "metadata": {
    "colab": {
      "provenance": []
    },
    "kernelspec": {
      "name": "python3",
      "display_name": "Python 3"
    },
    "language_info": {
      "name": "python"
    }
  },
  "cells": [
    {
      "cell_type": "markdown",
      "source": [
        "# Import Library\n"
      ],
      "metadata": {
        "id": "_3J3tpTCNXBj"
      }
    },
    {
      "cell_type": "code",
      "execution_count": 1,
      "metadata": {
        "id": "Tg45b0yrNKS6"
      },
      "outputs": [],
      "source": [
        "import tensorflow as tf\n",
        "import numpy as np"
      ]
    },
    {
      "cell_type": "markdown",
      "source": [
        "## 1. Random Tensor"
      ],
      "metadata": {
        "id": "tTrSv7WUNlWu"
      }
    },
    {
      "cell_type": "code",
      "source": [
        "random_tensor = tf.random.normal([5,5], mean=0, stddev=1, seed=4)\n",
        "print(random_tensor.numpy())\n"
      ],
      "metadata": {
        "colab": {
          "base_uri": "https://localhost:8080/"
        },
        "id": "M2WWT4kSNmxa",
        "outputId": "b1b14e2c-fbdb-49bc-b1ed-e4d94b1cf754"
      },
      "execution_count": 3,
      "outputs": [
        {
          "output_type": "stream",
          "name": "stdout",
          "text": [
            "[[ 0.29629603 -0.03141323 -0.05471061  0.03763179  2.564978  ]\n",
            " [-0.6494583  -0.6845234   0.43688074  1.4897977  -0.2399326 ]\n",
            " [ 0.04981674  0.41748443  0.11580934  0.8780719   0.27877015]\n",
            " [-1.5849335   1.1436394   1.0639356   1.1304685   1.3247743 ]\n",
            " [ 2.1117373  -0.863544   -1.8417858   0.4749224  -0.9902795 ]]\n"
          ]
        }
      ]
    },
    {
      "cell_type": "markdown",
      "source": [
        "# 2. Prime Tensor\n"
      ],
      "metadata": {
        "id": "Pm2tQAhLOc2V"
      }
    },
    {
      "cell_type": "code",
      "source": [
        "prime = [[2, 3, 5, 7, 11],[13, 17, 19, 23, 29],[31, 37, 41, 43, 47],[53, 59, 61, 71, 73],[79, 83, 89, 97, 1]]"
      ],
      "metadata": {
        "id": "zCoZU4yNOoIu"
      },
      "execution_count": 2,
      "outputs": []
    },
    {
      "cell_type": "code",
      "source": [
        "prime_tensor = tf.convert_to_tensor(prime, dtype=tf.float32)\n",
        "print(prime_tensor.numpy())"
      ],
      "metadata": {
        "colab": {
          "base_uri": "https://localhost:8080/"
        },
        "id": "qURm8I8kOte7",
        "outputId": "5e6408ec-bb1f-4b54-90c4-31ed6d487ef5"
      },
      "execution_count": 4,
      "outputs": [
        {
          "output_type": "stream",
          "name": "stdout",
          "text": [
            "[[ 2.  3.  5.  7. 11.]\n",
            " [13. 17. 19. 23. 29.]\n",
            " [31. 37. 41. 43. 47.]\n",
            " [53. 59. 61. 71. 73.]\n",
            " [79. 83. 89. 97.  1.]]\n"
          ]
        }
      ]
    },
    {
      "cell_type": "markdown",
      "source": [
        "# 3. Tensor Dimension\n"
      ],
      "metadata": {
        "id": "nUhcYo9dO0_G"
      }
    },
    {
      "cell_type": "code",
      "source": [
        "random_tensor.shape"
      ],
      "metadata": {
        "colab": {
          "base_uri": "https://localhost:8080/"
        },
        "id": "ggbq4ETlOvvs",
        "outputId": "5eed84f2-173f-4cb5-8fe9-b7adb841f275"
      },
      "execution_count": 5,
      "outputs": [
        {
          "output_type": "execute_result",
          "data": {
            "text/plain": [
              "TensorShape([5, 5])"
            ]
          },
          "metadata": {},
          "execution_count": 5
        }
      ]
    },
    {
      "cell_type": "code",
      "source": [
        "prime_tensor.shape"
      ],
      "metadata": {
        "colab": {
          "base_uri": "https://localhost:8080/"
        },
        "id": "YMyQt7gpO_5L",
        "outputId": "98714945-69db-4e01-b2a5-13ee063f7de6"
      },
      "execution_count": 6,
      "outputs": [
        {
          "output_type": "execute_result",
          "data": {
            "text/plain": [
              "TensorShape([5, 5])"
            ]
          },
          "metadata": {},
          "execution_count": 6
        }
      ]
    },
    {
      "cell_type": "markdown",
      "source": [
        "# 4.Arithmetic Operations"
      ],
      "metadata": {
        "id": "VynrnkyOPFmM"
      }
    },
    {
      "cell_type": "markdown",
      "source": [
        "***Addition***"
      ],
      "metadata": {
        "id": "_oJCw1OwPNYe"
      }
    },
    {
      "cell_type": "code",
      "source": [
        "print(tf.add(random_tensor, prime_tensor).numpy())"
      ],
      "metadata": {
        "colab": {
          "base_uri": "https://localhost:8080/"
        },
        "id": "oqJeaLVBPCI7",
        "outputId": "68b4a60c-7266-4a29-c610-498dc80049b1"
      },
      "execution_count": 7,
      "outputs": [
        {
          "output_type": "stream",
          "name": "stdout",
          "text": [
            "[[2.2962961e+00 2.9685867e+00 4.9452896e+00 7.0376320e+00 1.3564978e+01]\n",
            " [1.2350542e+01 1.6315477e+01 1.9436880e+01 2.4489798e+01 2.8760067e+01]\n",
            " [3.1049816e+01 3.7417484e+01 4.1115810e+01 4.3878071e+01 4.7278770e+01]\n",
            " [5.1415066e+01 6.0143639e+01 6.2063934e+01 7.2130470e+01 7.4324776e+01]\n",
            " [8.1111740e+01 8.2136459e+01 8.7158211e+01 9.7474922e+01 9.7205043e-03]]\n"
          ]
        }
      ]
    },
    {
      "cell_type": "markdown",
      "source": [
        "\n",
        "**Multiplication**"
      ],
      "metadata": {
        "id": "NztD87N1PYJM"
      }
    },
    {
      "cell_type": "code",
      "source": [
        "print(tf.multiply(random_tensor, prime_tensor).numpy())"
      ],
      "metadata": {
        "colab": {
          "base_uri": "https://localhost:8080/"
        },
        "id": "Az6ioYm0PW2t",
        "outputId": "79960496-c95a-460e-ab4b-87f47972328f"
      },
      "execution_count": 8,
      "outputs": [
        {
          "output_type": "stream",
          "name": "stdout",
          "text": [
            "[[ 5.9259206e-01 -9.4239704e-02 -2.7355304e-01  2.6342255e-01\n",
            "   2.8214756e+01]\n",
            " [-8.4429579e+00 -1.1636898e+01  8.3007336e+00  3.4265347e+01\n",
            "  -6.9580455e+00]\n",
            " [ 1.5443188e+00  1.5446924e+01  4.7481828e+00  3.7757092e+01\n",
            "   1.3102197e+01]\n",
            " [-8.4001480e+01  6.7474724e+01  6.4900070e+01  8.0263260e+01\n",
            "   9.6708519e+01]\n",
            " [ 1.6682724e+02 -7.1674149e+01 -1.6391893e+02  4.6067471e+01\n",
            "  -9.9027950e-01]]\n"
          ]
        }
      ]
    },
    {
      "cell_type": "markdown",
      "source": [
        "**Substraction**"
      ],
      "metadata": {
        "id": "30WzptXWPnWB"
      }
    },
    {
      "cell_type": "code",
      "source": [
        "print(tf.subtract(random_tensor, prime_tensor).numpy())"
      ],
      "metadata": {
        "colab": {
          "base_uri": "https://localhost:8080/"
        },
        "id": "nAu3I63IPmDL",
        "outputId": "0de1953f-b6c8-498c-c875-0a0dc94c4252"
      },
      "execution_count": 10,
      "outputs": [
        {
          "output_type": "stream",
          "name": "stdout",
          "text": [
            "[[ -1.703704   -3.0314133  -5.0547104  -6.962368   -8.435022 ]\n",
            " [-13.649458  -17.684523  -18.56312   -21.510202  -29.239933 ]\n",
            " [-30.950184  -36.582516  -40.88419   -42.12193   -46.72123  ]\n",
            " [-54.584934  -57.85636   -59.936066  -69.86953   -71.675224 ]\n",
            " [-76.88826   -83.86354   -90.84179   -96.52508    -1.9902794]]\n"
          ]
        }
      ]
    },
    {
      "cell_type": "markdown",
      "source": [
        "**Divide**"
      ],
      "metadata": {
        "id": "KS3vkD7NP3-I"
      }
    },
    {
      "cell_type": "code",
      "source": [
        "print(tf.divide(random_tensor, prime_tensor).numpy())"
      ],
      "metadata": {
        "colab": {
          "base_uri": "https://localhost:8080/"
        },
        "id": "rVIa08-7Puhs",
        "outputId": "8d90df35-e7ae-46fb-9b3f-4328898c669b"
      },
      "execution_count": 11,
      "outputs": [
        {
          "output_type": "stream",
          "name": "stdout",
          "text": [
            "[[ 0.14814802 -0.01047108 -0.01094212  0.00537597  0.23317981]\n",
            " [-0.04995833 -0.04026608  0.02299372  0.06477381 -0.00827354]\n",
            " [ 0.00160699  0.01128336  0.00282462  0.02042028  0.00593128]\n",
            " [-0.02990441  0.01938372  0.01744157  0.01592209  0.01814759]\n",
            " [ 0.02673085 -0.01040414 -0.02069422  0.00489611 -0.9902795 ]]\n"
          ]
        }
      ]
    },
    {
      "cell_type": "markdown",
      "source": [
        "**Power**"
      ],
      "metadata": {
        "id": "HAgmI4-XQJcP"
      }
    },
    {
      "cell_type": "code",
      "source": [
        "print(tf.pow(random_tensor, prime_tensor).numpy())"
      ],
      "metadata": {
        "colab": {
          "base_uri": "https://localhost:8080/"
        },
        "id": "-V3W995CQIPc",
        "outputId": "174b2327-ff54-4281-a902-ac8a3dcd63ac"
      },
      "execution_count": 12,
      "outputs": [
        {
          "output_type": "stream",
          "name": "stdout",
          "text": [
            "[[ 8.7791339e-02 -3.0998308e-05 -4.9018240e-07  1.0687699e-10\n",
            "   3.1616943e+04]\n",
            " [-3.6573492e-03 -1.5907470e-03  1.4685713e-07  9.5924150e+03\n",
            "  -1.0533880e-18]\n",
            " [ 0.0000000e+00  9.1979401e-15  0.0000000e+00  3.7307271e-03\n",
            "   8.4445118e-27]\n",
            " [-3.9864439e+10  2.7482639e+03  4.3836586e+01  6.0443652e+03\n",
            "   8.2481670e+08]\n",
            " [ 4.4314982e+25 -5.1476682e-06 -4.0390710e+23  4.2893989e-32\n",
            "  -9.9027950e-01]]\n"
          ]
        }
      ]
    },
    {
      "cell_type": "markdown",
      "source": [
        "# 5. Max and Min\n"
      ],
      "metadata": {
        "id": "wUTtN-qcQlyQ"
      }
    },
    {
      "cell_type": "code",
      "source": [
        "print(f'Nilai Minimum Random : {tf.reduce_max(random_tensor).numpy()}')\n",
        "print(f'Nilai Maksimum Random : {tf.reduce_min(random_tensor).numpy()}')"
      ],
      "metadata": {
        "colab": {
          "base_uri": "https://localhost:8080/"
        },
        "id": "6R3b8cUyQceR",
        "outputId": "89d556b7-d8ea-41db-afa6-01c5d7514c7a"
      },
      "execution_count": 15,
      "outputs": [
        {
          "output_type": "stream",
          "name": "stdout",
          "text": [
            "Nilai Minimum Random : 2.5649778842926025\n",
            "Nilai Maksimum Random : -1.8417857885360718\n"
          ]
        }
      ]
    },
    {
      "cell_type": "code",
      "source": [],
      "metadata": {
        "id": "Yw9t6kXGRIqT"
      },
      "execution_count": null,
      "outputs": []
    },
    {
      "cell_type": "markdown",
      "source": [
        "# 6. Concatenation"
      ],
      "metadata": {
        "id": "uPHEaALiRaHi"
      }
    },
    {
      "cell_type": "code",
      "source": [
        "print(tf.concat([random_tensor, prime_tensor], axis=0).numpy())"
      ],
      "metadata": {
        "colab": {
          "base_uri": "https://localhost:8080/"
        },
        "id": "6CtBQOVIRab0",
        "outputId": "fd353a58-4988-4096-ed05-c311e7e5a7b4"
      },
      "execution_count": 16,
      "outputs": [
        {
          "output_type": "stream",
          "name": "stdout",
          "text": [
            "[[ 2.9629603e-01 -3.1413235e-02 -5.4710608e-02  3.7631791e-02\n",
            "   2.5649779e+00]\n",
            " [-6.4945829e-01 -6.8452340e-01  4.3688074e-01  1.4897977e+00\n",
            "  -2.3993260e-01]\n",
            " [ 4.9816735e-02  4.1748443e-01  1.1580934e-01  8.7807190e-01\n",
            "   2.7877015e-01]\n",
            " [-1.5849335e+00  1.1436394e+00  1.0639356e+00  1.1304685e+00\n",
            "   1.3247743e+00]\n",
            " [ 2.1117373e+00 -8.6354399e-01 -1.8417858e+00  4.7492239e-01\n",
            "  -9.9027950e-01]\n",
            " [ 2.0000000e+00  3.0000000e+00  5.0000000e+00  7.0000000e+00\n",
            "   1.1000000e+01]\n",
            " [ 1.3000000e+01  1.7000000e+01  1.9000000e+01  2.3000000e+01\n",
            "   2.9000000e+01]\n",
            " [ 3.1000000e+01  3.7000000e+01  4.1000000e+01  4.3000000e+01\n",
            "   4.7000000e+01]\n",
            " [ 5.3000000e+01  5.9000000e+01  6.1000000e+01  7.1000000e+01\n",
            "   7.3000000e+01]\n",
            " [ 7.9000000e+01  8.3000000e+01  8.9000000e+01  9.7000000e+01\n",
            "   1.0000000e+00]]\n"
          ]
        }
      ]
    },
    {
      "cell_type": "code",
      "source": [
        "print(tf.concat([random_tensor, prime_tensor], axis=1).numpy())"
      ],
      "metadata": {
        "colab": {
          "base_uri": "https://localhost:8080/"
        },
        "id": "KaF1UU-4R3X7",
        "outputId": "86b593ba-b707-47eb-fc0c-fb92caea18b7"
      },
      "execution_count": 17,
      "outputs": [
        {
          "output_type": "stream",
          "name": "stdout",
          "text": [
            "[[ 2.9629603e-01 -3.1413235e-02 -5.4710608e-02  3.7631791e-02\n",
            "   2.5649779e+00  2.0000000e+00  3.0000000e+00  5.0000000e+00\n",
            "   7.0000000e+00  1.1000000e+01]\n",
            " [-6.4945829e-01 -6.8452340e-01  4.3688074e-01  1.4897977e+00\n",
            "  -2.3993260e-01  1.3000000e+01  1.7000000e+01  1.9000000e+01\n",
            "   2.3000000e+01  2.9000000e+01]\n",
            " [ 4.9816735e-02  4.1748443e-01  1.1580934e-01  8.7807190e-01\n",
            "   2.7877015e-01  3.1000000e+01  3.7000000e+01  4.1000000e+01\n",
            "   4.3000000e+01  4.7000000e+01]\n",
            " [-1.5849335e+00  1.1436394e+00  1.0639356e+00  1.1304685e+00\n",
            "   1.3247743e+00  5.3000000e+01  5.9000000e+01  6.1000000e+01\n",
            "   7.1000000e+01  7.3000000e+01]\n",
            " [ 2.1117373e+00 -8.6354399e-01 -1.8417858e+00  4.7492239e-01\n",
            "  -9.9027950e-01  7.9000000e+01  8.3000000e+01  8.9000000e+01\n",
            "   9.7000000e+01  1.0000000e+00]]\n"
          ]
        }
      ]
    },
    {
      "cell_type": "markdown",
      "source": [
        "# 7. Sorting"
      ],
      "metadata": {
        "id": "c-B85343SKCp"
      }
    },
    {
      "cell_type": "code",
      "source": [
        "print(tf.sort(random_tensor, direction='DESCENDING', axis=0).numpy())"
      ],
      "metadata": {
        "colab": {
          "base_uri": "https://localhost:8080/"
        },
        "id": "PG8mGz8VR-nj",
        "outputId": "82a78d4b-77d6-47d2-b0a6-854b0b042815"
      },
      "execution_count": 18,
      "outputs": [
        {
          "output_type": "stream",
          "name": "stdout",
          "text": [
            "[[ 2.1117373   1.1436394   1.0639356   1.4897977   2.564978  ]\n",
            " [ 0.29629603  0.41748443  0.43688074  1.1304685   1.3247743 ]\n",
            " [ 0.04981674 -0.03141323  0.11580934  0.8780719   0.27877015]\n",
            " [-0.6494583  -0.6845234  -0.05471061  0.4749224  -0.2399326 ]\n",
            " [-1.5849335  -0.863544   -1.8417858   0.03763179 -0.9902795 ]]\n"
          ]
        }
      ]
    }
  ]
}